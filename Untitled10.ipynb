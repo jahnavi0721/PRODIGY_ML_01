{
  "nbformat": 4,
  "nbformat_minor": 0,
  "metadata": {
    "colab": {
      "provenance": [],
      "authorship_tag": "ABX9TyMsFpXvMX9JNSVp+upy3gQj",
      "include_colab_link": true
    },
    "kernelspec": {
      "name": "python3",
      "display_name": "Python 3"
    },
    "language_info": {
      "name": "python"
    }
  },
  "cells": [
    {
      "cell_type": "markdown",
      "metadata": {
        "id": "view-in-github",
        "colab_type": "text"
      },
      "source": [
        "<a href=\"https://colab.research.google.com/github/jahnavi0721/PRODIGY_ML_01/blob/main/Untitled10.ipynb\" target=\"_parent\"><img src=\"https://colab.research.google.com/assets/colab-badge.svg\" alt=\"Open In Colab\"/></a>"
      ]
    },
    {
      "cell_type": "code",
      "execution_count": null,
      "metadata": {
        "id": "VVlo8b5XVQf6"
      },
      "outputs": [],
      "source": [
        "import numpy as np\n",
        "import pandas as pd\n",
        "from sklearn.model_selection import train_test_split\n",
        "from sklearn.linear_model import LinearRegression\n",
        "from sklearn.metrics import mean_squared_error\n",
        "\n",
        "np.random.seed(0)\n",
        "n_samples = 100\n",
        "square_footage = np.random.randint(500, 3500, n_samples)\n",
        "num_bedrooms = np.random.randint(1, 6, n_samples)\n",
        "num_bathrooms = np.random.randint(1, 4, n_samples)\n",
        "prices = 50000 + (square_footage * 150) + (num_bedrooms * 10000) + (num_bathrooms * 5000) + np.random.randint(-20000, 20000, n_samples)\n",
        "\n",
        "data = pd.DataFrame({\n",
        "    'SquareFootage': square_footage,\n",
        "    'NumBedrooms': num_bedrooms,\n",
        "    'NumBathrooms': num_bathrooms,\n",
        "    'Price': prices\n",
        "})\n",
        "\n",
        "X = data[['SquareFootage', 'NumBedrooms', 'NumBathrooms']]\n",
        "y = data['Price']\n",
        "\n",
        "X_train, X_test, y_train, y_test = train_test_split(X, y, test_size=0.2, random_state=0)\n",
        "\n",
        "model = LinearRegression()\n",
        "model.fit(X_train, y_train)\n",
        "\n",
        "y_pred = model.predict(X_test)\n",
        "mse = mean_squared_error(y_test, y_pred)\n",
        "\n",
        "print(f'Mean Squared Error: {mse}')\n",
        "print(f'Coefficients: {model.coef_}')\n",
        "print(f'Intercept: {model.intercept_}')"
      ]
    }
  ]
}